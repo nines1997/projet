  {
 "cells": [
    {
     "cell_type": "markdown",
     "metadata": {},
     "source": [
      "![UCA](http://caillau.perso.math.cnrs.fr/logo-uca.png)\n",
      "## L2 MIASHS - ANDE\n",
      "# Projet par : \n",
      "\n",
      "##Ines Ferdi - Laïla Bentlili - Caroline Coti\n",
      "[![Binder](https://mybinder.org/badge_logo.svg)](https://mybinder.org/v2/gh/jbcaillau/ande/master?urlpath=lab/tree/proj/proj.ipynb)\n",
      "\n",
      "[![Open In Colab](https://colab.research.google.com/assets/colab-badge.svg)](https://colab.research.google.com/github/jbcaillau/ande/blob/master/proj/proj.ipynb)"
    ]
  },
  {
   "cell_type": "markdown",
   "metadata": {},
   "source": [
    "## Exercice 1\n",
    "On se place sur $X = {\\mathbf{R}}^3_+$ et on considère la relation de préférence notée $\\preccurlyeq$ définie comme suit : \n",
    "$(x_1,x_2,x_3) \\preccurlyeq (y_1,y_2,y_3)$ si et seulement pour au moins deux valeurs de $i$ dans $\\{1, 2, 3\\}$ on a $x_i \\leq y_i$.\n",
    "\n",
    "### 1.1\n",
     "##### Montrer que cette relation de préférence est complète.",
     "\n",
     "L'on est sur ${\\mathbf{R}}^3_+$ , telle que la relation de préférence, ici, envisagée est :\n",
     "\n",
     "$(x_1,x_2,x_3) \\preccurlyeq (y_1,y_2,y_3)$, si et seulement si pour 2 valeurs de $i$ $\\epsilon{\\{1,2,3\\}}$ on ai $x_i \\leq y_i$.\n",
     "\n",
     "Définition : Une relation de préférence est dite complète si tous les éléments de notre ensemble X sont comparables.\n",
     "\n",
     "Soient $\\forall(x,y)$ $\\epsilon{X^2}$ : x$\\preccurlyeq$y , ou , y$\\preccurlyeq$x.\n",
     "\n",
     "Cette relation de préference est ainsi dite transistive si $\\forall(x,y,z)$ $\\epsilon{X^3}$,\n x $\\preccurlyeq$ y \net\n y $\\preccurlyeq$ z\nalors\nx $\\preccurlyeq$ z.\n",
     "\n",
     "Suivant la relation $\\leq$ l'on a $\\forall(x,y)$ $\\epsilon{X}$ et $\\forall$ $i$ $\\epsilon{\\{1,2,3\\}}$ nous avons soit $x_i\\leq y_i$ soit $x_i\\geq y_i$. \n Ainsi cette relation est donc définie dans les cas suivant :\n",
     "\n",
     "$\\ast$Cas 1 : si $x_1 \\leq y_1$ \n et $x_2 \\leq y_2$ $\\Rightarrow$ $x_3 \\leq y_3$ ou $y_3 \\leq x_3$ \n",
     "\n",
     "$\\ast$Cas 2 : si $x_2 \\leq y_2$ \n et $x_3 \\leq y_3$ $\\Rightarrow$ $x_1 \\leq y_1$ ou $y_1 \\leq x_1$ \n",
     "\n",
     "$\\ast$Cas 3 : si $x_3 \\leq y_3$ \n et $x_1 \\leq y_1$ $\\Rightarrow$ $x_2 \\leq y_2$ ou $y_2 \\leq x_2$ \n",
     "\n",
     "Et si $x_i=y_i$ alors $\\forall$ $i$ x equivaut à y (soit x est préférer à y et y à x) ainsi il n'y aucunes préférences.\n", 
     "### 1.2\n",
      "##### À l'aide d'un contrexemple, montrer que cette relation de préférence n'est pas transitive."
      "\n",
      "Dans notre situation, ($\\forall(x_i,y_i)$ $\\epsilon$ X) si l'on prend par exemple $x_1 \\leq y_1$ et $x_2 \\leq y_2$, cela n'implique pas que $x_3 \\leq y_3$.\n",
      "Au vue de la définition de la relation $\\leq$, cet exemple est une éventualité mais on peut aussi avoir : $x_1 \\leq y_1$; $x_2 \\leq y2$ et $y_3 \\leq x_3$.\n",
      "Ce qui montre que cette relation de préférence n'est pas transitive.\n",
      "\n",
      "De plus montrons cela de façon algébrique : soient : x =(1,1,2) , y =(1,0,2) , z =(0,0,2)\n",
      "Nous avons bien que $x \\preccurlyeq y$ et $y \\preccurlyeq z$, $forall$ $z \\preccurlyeq x$.\n",
   ]
  }
