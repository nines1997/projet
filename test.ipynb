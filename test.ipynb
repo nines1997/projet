  {
 "cells": [
    {
     "cell_type": "markdown",
     "metadata": {},
     "source": [
      "![UCA](http://caillau.perso.math.cnrs.fr/logo-uca.png)\n",
      "## L2 MIASHS - ANDE\n",
      "# Projet par : \n",
      "\n",
      "##Ines Ferdi - Laïla Bentlili - Caroline Coti\n",
      "[![Binder](https://mybinder.org/badge_logo.svg)](https://mybinder.org/v2/gh/jbcaillau/ande/master?urlpath=lab/tree/proj/proj.ipynb)\n",
      "\n",
      "[![Open In Colab](https://colab.research.google.com/assets/colab-badge.svg)](https://colab.research.google.com/github/jbcaillau/ande/blob/master/proj/proj.ipynb)"
    ]
  },
  {
   "cell_type": "markdown",
   "metadata": {},
   "source": [
    "## Exercice 1\n",
    "On se place sur $X = {\\mathbf{R}}^3_+$ et on considère la relation de préférence notée $\\preccurlyeq$ définie comme suit : \n",
    "$(x_1,x_2,x_3) \\preccurlyeq (y_1,y_2,y_3)$ si et seulement pour au moins deux valeurs de $i$ dans $\\{1, 2, 3\\}$ on a $x_i \\leq y_i$.\n",
    "\n",
    "### 1.1\n",
     "${\\mathit{Montrer cette relation de préférence est complète.}}$\n",
     "\n",
     "L'on est sur ${\\mathbf{R}}^3_+$ , telle que la relation de préférence, ici, envisagée est :\n",
     "\n",
     "$(x_1,x_2,x_3) \\preccurlyeq (y_1,y_2,y_3)$, si et seulement si pour 2 valeurs de $i$ $\\epsilon{\\{1,2,3\\}}$ on ai $x_i \\leq y_i$.\n",
     "\n",
     "Définition : Une relation de préférence est dite complète si tous les éléments de notre ensemble X sont comparables.\n",
     "\n",
     "Soient $\\forall(x,y)$ $\\epsilon{X^2}$ : x$\\preccurlyeq$y , ou , y$\\preccurlyeq$x.\n",
     "\n",
     "Cette relation de préference est ainsi dite transistive si $\\forall(x,y,z)$ $\\epsilon{X^3}$,\n x $\\preccurlyeq$ y \net\n y $\\preccurlyeq$ z\nalors\nx $\\preccurlyeq$ z.\n",
     "\n",
     "Suivant la relation $\\leq$ l'on a $\\forall(x,y)$ $\\epsilon{X}$ et $\\florall$ $i$ $\\epsilon{\\{1,2,3\\}}$ nous avons soit $x_i\\leq y_i$ soit $x_i\\geq y_i$. \n Ainsi cette relation ess donc définie dans les cas suivant :\n",
     "\n",
     "1\right) si $x_1\\leq y_1$\n et \n $x_2\\leqy_2$ \n $\\Rightarrow$ $x_3\\leqy_3$\n ou \n$y_3\\leqx_3$ \n",
     "\n”,
     "2\right) si $x_2\\leq y_2$ et $x_3\\leqy_3$ \n $\\Rightarrow$ $x_1\\leqy_1$ \n ou \n $y_1\\leqx_1$ \n",
     "3\right) si $x_3\\leq y_3$ et $x_1\\leqy_1$ \n $\\Rightarrow$ $x_2\\leqy_2$ \n ou \n $y_2\\leqx_2$ \n",
     "\n",
    "### 1.2\n",
    "À l'aide d'un contrexemple, montrer que cette relation de préférence n'est pas transitive."
   ]
  },
   
